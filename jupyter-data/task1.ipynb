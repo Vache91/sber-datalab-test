{
 "cells": [
  {
   "cell_type": "code",
   "execution_count": 1,
   "id": "76cb242b",
   "metadata": {},
   "outputs": [],
   "source": [
    "import psycopg2\n",
    "from sqlalchemy import create_engine, inspect"
   ]
  },
  {
   "cell_type": "code",
   "execution_count": 5,
   "id": "423dd201",
   "metadata": {},
   "outputs": [],
   "source": [
    "database = {\n",
    "    'host': \"13.53.193.112\",\n",
    "    'port': \"37781\",\n",
    "    'name': \"jupyterlab\",\n",
    "    'user': \"postgres\",\n",
    "    'pass': \"Atorik\"\n",
    "}"
   ]
  },
  {
   "cell_type": "code",
   "execution_count": 6,
   "id": "c0ebb1e5-6666-4d3c-b100-4c75b5b63f4e",
   "metadata": {},
   "outputs": [],
   "source": [
    "engine = create_engine(\"postgresql+psycopg2://{user}:{pass}@{host}:{port}/{name}\".format(**database))"
   ]
  },
  {
   "cell_type": "code",
   "execution_count": 7,
   "id": "e6bf01f3",
   "metadata": {},
   "outputs": [
    {
     "name": "stdout",
     "output_type": "stream",
     "text": [
      "[]\n"
     ]
    }
   ],
   "source": [
    "conn = engine.connect()\n",
    "insp = inspect(engine)\n",
    "\n",
    "print(insp.get_table_names())"
   ]
  },
  {
   "cell_type": "code",
   "execution_count": null,
   "id": "bf60ea42",
   "metadata": {},
   "outputs": [],
   "source": []
  }
 ],
 "metadata": {
  "kernelspec": {
   "display_name": "Python 3 (ipykernel)",
   "language": "python",
   "name": "python3"
  },
  "language_info": {
   "codemirror_mode": {
    "name": "ipython",
    "version": 3
   },
   "file_extension": ".py",
   "mimetype": "text/x-python",
   "name": "python",
   "nbconvert_exporter": "python",
   "pygments_lexer": "ipython3",
   "version": "3.11.6"
  }
 },
 "nbformat": 4,
 "nbformat_minor": 5
}
